{
 "cells": [
  {
   "cell_type": "markdown",
   "metadata": {},
   "source": [
    "## Preprocess USPS dataset\n",
    "\n",
    "Convert to grayscale and resize to 28 x 28\n",
    "\n",
    "Output saved in usps.csv. Each line is the label followed by flattened image."
   ]
  },
  {
   "cell_type": "code",
   "execution_count": 174,
   "metadata": {
    "ExecuteTime": {
     "end_time": "2018-04-21T19:26:08.281987Z",
     "start_time": "2018-04-21T19:26:08.275028Z"
    }
   },
   "outputs": [],
   "source": [
    "import numpy as np\n",
    "import pandas as pd\n",
    "import matplotlib.pyplot as plt\n",
    "from skimage import transform\n",
    "import os"
   ]
  },
  {
   "cell_type": "code",
   "execution_count": 167,
   "metadata": {
    "ExecuteTime": {
     "end_time": "2018-04-21T19:21:09.785734Z",
     "start_time": "2018-04-21T19:21:09.779908Z"
    }
   },
   "outputs": [],
   "source": [
    "def rgb2gray(rgb):\n",
    "    return (1 - np.dot(rgb[...,:3], [0.299, 0.587, 0.114])) * 255\n",
    "\n",
    "def resize(img):\n",
    "    return np.ndarray.astype(transform.resize(img, [28, 28], mode='constant'), int)"
   ]
  },
  {
   "cell_type": "code",
   "execution_count": 168,
   "metadata": {
    "ExecuteTime": {
     "end_time": "2018-04-21T19:21:42.150338Z",
     "start_time": "2018-04-21T19:21:10.615127Z"
    }
   },
   "outputs": [],
   "source": [
    "path_to_data = \"./USPSdata/Numerals/\"\n",
    "img_list = os.listdir(path_to_data)\n",
    "sz = [28, 28]\n",
    "data = []\n",
    "for i in range(10):\n",
    "    label = path_to_data + str(i) + '/'\n",
    "    img_list = os.listdir(label)\n",
    "    for name in img_list:\n",
    "        if '.png' in name:\n",
    "            img = rgb2gray(plt.imread(label + name))\n",
    "            resized_img = resize(img)\n",
    "            data.append([i] + list(resized_img.flatten()))"
   ]
  },
  {
   "cell_type": "code",
   "execution_count": 169,
   "metadata": {
    "ExecuteTime": {
     "end_time": "2018-04-21T19:21:57.197881Z",
     "start_time": "2018-04-21T19:21:49.386962Z"
    }
   },
   "outputs": [],
   "source": [
    "df = pd.DataFrame(data)\n",
    "df.to_csv(\"usps.csv\", header=None)"
   ]
  },
  {
   "cell_type": "markdown",
   "metadata": {},
   "source": [
    "## Read csv containing numerals"
   ]
  },
  {
   "cell_type": "code",
   "execution_count": 182,
   "metadata": {
    "ExecuteTime": {
     "end_time": "2018-04-21T19:33:05.785691Z",
     "start_time": "2018-04-21T19:33:05.777427Z"
    }
   },
   "outputs": [],
   "source": [
    "def read_data(filename, size=None):\n",
    "    if size is not None:\n",
    "        df = pd.read_csv('data/' + filename, header=None, size=size)\n",
    "    else:\n",
    "        df = pd.read_csv('data/' + filename, header=None)\n",
    "    label = df.iloc[:,0].as_matrix()\n",
    "    data = df.iloc[:,1:].as_matrix()\n",
    "    return label, data"
   ]
  }
 ],
 "metadata": {
  "kernelspec": {
   "display_name": "Python 3",
   "language": "python",
   "name": "python3"
  },
  "language_info": {
   "codemirror_mode": {
    "name": "ipython",
    "version": 3
   },
   "file_extension": ".py",
   "mimetype": "text/x-python",
   "name": "python",
   "nbconvert_exporter": "python",
   "pygments_lexer": "ipython3",
   "version": "3.6.1"
  }
 },
 "nbformat": 4,
 "nbformat_minor": 2
}
